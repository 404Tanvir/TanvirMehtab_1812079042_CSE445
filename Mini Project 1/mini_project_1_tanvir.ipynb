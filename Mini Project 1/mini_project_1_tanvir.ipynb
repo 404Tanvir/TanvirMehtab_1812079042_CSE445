{
 "cells": [
  {
   "cell_type": "code",
   "execution_count": null,
   "id": "4de4a7b4",
   "metadata": {},
   "outputs": [],
   "source": [
    "import os\n",
    "import pandas as pd\n",
    "import numpy as np\n",
    "import matplotlib.pyplot as plt"
   ]
  },
  {
   "cell_type": "code",
   "execution_count": null,
   "id": "68ec8f2a",
   "metadata": {},
   "outputs": [],
   "source": [
    "from sklearn.preprocessing import StandardScaler\n",
    "from sklearn.model_selection import train_test_split\n",
    "from sklearn.cluster import KMeans\n",
    "from sklearn.svm import SVC\n",
    "from sklearn.tree import DecisionTreeClassifier, plot_tree\n",
    "from sklearn.metrics import confusion_matrix, ConfusionMatrixDisplay"
   ]
  },
  {
   "cell_type": "code",
   "execution_count": null,
   "id": "a15e60a6",
   "metadata": {
    "lines_to_next_cell": 1
   },
   "outputs": [],
   "source": [
    "# --- Setup ---\n",
    "os.makedirs(\"outputs\", exist_ok=True)"
   ]
  },
  {
   "cell_type": "code",
   "execution_count": null,
   "id": "eaeb6bec",
   "metadata": {
    "lines_to_next_cell": 1
   },
   "outputs": [],
   "source": [
    "def savefig(path):\n",
    "    plt.savefig(path, dpi=150, bbox_inches='tight')\n",
    "    plt.close()"
   ]
  },
  {
   "cell_type": "code",
   "execution_count": null,
   "id": "239a9db6",
   "metadata": {},
   "outputs": [],
   "source": [
    "# --- Load & clean data ---\n",
    "df = pd.read_excel(\"CSE 445_ Data.xlsx\")"
   ]
  },
  {
   "cell_type": "code",
   "execution_count": null,
   "id": "4dd5c3d5",
   "metadata": {},
   "outputs": [],
   "source": [
    "# Drop empty rows\n",
    "df = df.dropna(how='all')\n",
    "df.columns = [c.strip() for c in df.columns]"
   ]
  },
  {
   "cell_type": "code",
   "execution_count": null,
   "id": "544008d2",
   "metadata": {},
   "outputs": [],
   "source": [
    "# Clean reaction time\n",
    "df['Average Reaction Time'] = (\n",
    "    df['Average Reaction Time'].astype(str)\n",
    "    .str.replace('sec', '', regex=False)\n",
    "    .str.replace('[^0-9.]', '', regex=True)\n",
    "    .replace('', np.nan)\n",
    "    .astype(float)\n",
    ")"
   ]
  },
  {
   "cell_type": "code",
   "execution_count": null,
   "id": "9d2f8ada",
   "metadata": {},
   "outputs": [],
   "source": [
    "df['Accuracy'] = pd.to_numeric(df['Accuracy'], errors='coerce')\n",
    "df = df.dropna(subset=['Accuracy', 'Average Reaction Time'])"
   ]
  },
  {
   "cell_type": "code",
   "execution_count": null,
   "id": "9be1e558",
   "metadata": {},
   "outputs": [],
   "source": [
    "# Save CSV\n",
    "df.to_csv(\"outputs/Collected_Data.csv\", index=False)"
   ]
  },
  {
   "cell_type": "code",
   "execution_count": null,
   "id": "6d0b4201",
   "metadata": {},
   "outputs": [],
   "source": [
    "# --- Features ---\n",
    "X = df[['Accuracy', 'Average Reaction Time']]\n",
    "scaler = StandardScaler()\n",
    "X_scaled = scaler.fit_transform(X)"
   ]
  },
  {
   "cell_type": "code",
   "execution_count": null,
   "id": "79682dd7",
   "metadata": {},
   "outputs": [],
   "source": [
    "# --- KMeans clustering ---\n",
    "kmeans = KMeans(n_clusters=2, random_state=42, n_init=\"auto\")\n",
    "labels = kmeans.fit_predict(X_scaled)\n",
    "df[\"MP1_Label\"] = labels"
   ]
  },
  {
   "cell_type": "code",
   "execution_count": null,
   "id": "acd34ebb",
   "metadata": {},
   "outputs": [],
   "source": [
    "# Save cluster plot\n",
    "plt.scatter(df['Accuracy'], df['Average Reaction Time'], c=labels)\n",
    "plt.xlabel(\"Accuracy\")\n",
    "plt.ylabel(\"Reaction Time (sec)\")\n",
    "plt.title(\"KMeans Clusters\")\n",
    "savefig(\"outputs/mp1_kmeans_clusters.png\")"
   ]
  },
  {
   "cell_type": "code",
   "execution_count": null,
   "id": "9e464985",
   "metadata": {},
   "outputs": [],
   "source": [
    "# --- Train/Test split ---\n",
    "X_train, X_test, y_train, y_test = train_test_split(\n",
    "    X_scaled, labels, test_size=0.3, random_state=42, stratify=labels\n",
    ")"
   ]
  },
  {
   "cell_type": "code",
   "execution_count": null,
   "id": "c1e05fc8",
   "metadata": {},
   "outputs": [],
   "source": [
    "# --- SVM ---\n",
    "svm = SVC()\n",
    "svm.fit(X_train, y_train)\n",
    "y_pred_svm = svm.predict(X_test)"
   ]
  },
  {
   "cell_type": "code",
   "execution_count": null,
   "id": "f9792309",
   "metadata": {},
   "outputs": [],
   "source": [
    "cm_svm = confusion_matrix(y_test, y_pred_svm)\n",
    "ConfusionMatrixDisplay(cm_svm).plot()\n",
    "plt.title(\"SVM Confusion Matrix\")\n",
    "savefig(\"outputs/mp1_svm_confusion.png\")"
   ]
  },
  {
   "cell_type": "code",
   "execution_count": null,
   "id": "b2c419c8",
   "metadata": {},
   "outputs": [],
   "source": [
    "# --- Decision Tree ---\n",
    "dt = DecisionTreeClassifier(random_state=42)\n",
    "dt.fit(X_train, y_train)\n",
    "y_pred_dt = dt.predict(X_test)"
   ]
  },
  {
   "cell_type": "code",
   "execution_count": null,
   "id": "e34d51e5",
   "metadata": {},
   "outputs": [],
   "source": [
    "cm_dt = confusion_matrix(y_test, y_pred_dt)\n",
    "ConfusionMatrixDisplay(cm_dt).plot()\n",
    "plt.title(\"Decision Tree Confusion Matrix\")\n",
    "savefig(\"outputs/mp1_dt_confusion.png\")"
   ]
  },
  {
   "cell_type": "code",
   "execution_count": null,
   "id": "8f86ebf5",
   "metadata": {},
   "outputs": [],
   "source": [
    "# Save tree visualization\n",
    "plt.figure(figsize=(10,6))\n",
    "plot_tree(dt, filled=True, feature_names=['Accuracy','Reaction Time'])\n",
    "savefig(\"outputs/mp1_decision_tree.png\")"
   ]
  },
  {
   "cell_type": "code",
   "execution_count": null,
   "id": "400c229b",
   "metadata": {},
   "outputs": [],
   "source": [
    "print(\"✅ Mini Project 1 complete. Check the outputs/ folder!\")"
   ]
  }
 ],
 "metadata": {
  "jupytext": {
   "cell_metadata_filter": "-all",
   "main_language": "python",
   "notebook_metadata_filter": "-all"
  },
  "language_info": {
   "name": "python"
  }
 },
 "nbformat": 4,
 "nbformat_minor": 5
}
