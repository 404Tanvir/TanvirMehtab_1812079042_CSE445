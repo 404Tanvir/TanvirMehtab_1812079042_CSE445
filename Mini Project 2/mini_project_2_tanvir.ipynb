{
 "cells": [
  {
   "cell_type": "code",
   "execution_count": null,
   "id": "452c1f97",
   "metadata": {},
   "outputs": [],
   "source": [
    "import os\n",
    "import pandas as pd\n",
    "import numpy as np\n",
    "import matplotlib.pyplot as plt"
   ]
  },
  {
   "cell_type": "code",
   "execution_count": null,
   "id": "632b9f53",
   "metadata": {},
   "outputs": [],
   "source": [
    "from sklearn.model_selection import train_test_split\n",
    "from sklearn.neural_network import MLPClassifier\n",
    "from sklearn.ensemble import RandomForestClassifier\n",
    "from sklearn.metrics import confusion_matrix, ConfusionMatrixDisplay"
   ]
  },
  {
   "cell_type": "code",
   "execution_count": null,
   "id": "c152cfeb",
   "metadata": {},
   "outputs": [],
   "source": [
    "# Try XGBoost\n",
    "try:\n",
    "    from xgboost import XGBClassifier\n",
    "    HAS_XGB = True\n",
    "except:\n",
    "    HAS_XGB = False\n",
    "    print(\"[Info] XGBoost not installed.\")"
   ]
  },
  {
   "cell_type": "code",
   "execution_count": null,
   "id": "885f87d9",
   "metadata": {
    "lines_to_next_cell": 1
   },
   "outputs": [],
   "source": [
    "# --- Setup ---\n",
    "os.makedirs(\"outputs\", exist_ok=True)"
   ]
  },
  {
   "cell_type": "code",
   "execution_count": null,
   "id": "3fc90f0f",
   "metadata": {
    "lines_to_next_cell": 1
   },
   "outputs": [],
   "source": [
    "def savefig(path):\n",
    "    plt.savefig(path, dpi=150, bbox_inches='tight')\n",
    "    plt.close()"
   ]
  },
  {
   "cell_type": "code",
   "execution_count": null,
   "id": "8304f8cb",
   "metadata": {},
   "outputs": [],
   "source": [
    "# --- Load cleaned data from Project 1 ---\n",
    "df = pd.read_csv(\"outputs/Collected_Data.csv\")"
   ]
  },
  {
   "cell_type": "code",
   "execution_count": null,
   "id": "bbf5eab9",
   "metadata": {},
   "outputs": [],
   "source": [
    "# --- Manual labels (Tanvir’s rule) ---\n",
    "# High Performer if accuracy ≥ 0.97 and reaction time ≤ 1.30\n",
    "df[\"MP2_Label\"] = ((df[\"Accuracy\"] >= 0.97) & (df[\"Average Reaction Time\"] <= 1.30)).astype(int)"
   ]
  },
  {
   "cell_type": "code",
   "execution_count": null,
   "id": "dc00f5a5",
   "metadata": {},
   "outputs": [],
   "source": [
    "# --- Statistical features ---\n",
    "features = pd.DataFrame()\n",
    "features[\"mean\"] = df[[\"Accuracy\",\"Average Reaction Time\"]].mean(axis=1)\n",
    "features[\"std\"] = df[[\"Accuracy\",\"Average Reaction Time\"]].std(axis=1)\n",
    "features[\"min\"] = df[[\"Accuracy\",\"Average Reaction Time\"]].min(axis=1)\n",
    "features[\"max\"] = df[[\"Accuracy\",\"Average Reaction Time\"]].max(axis=1)"
   ]
  },
  {
   "cell_type": "code",
   "execution_count": null,
   "id": "474fc18e",
   "metadata": {},
   "outputs": [],
   "source": [
    "X = features.values\n",
    "y = df[\"MP2_Label\"].values"
   ]
  },
  {
   "cell_type": "code",
   "execution_count": null,
   "id": "1eab13df",
   "metadata": {},
   "outputs": [],
   "source": [
    "X_train, X_test, y_train, y_test = train_test_split(X, y, test_size=0.3, random_state=42, stratify=y)"
   ]
  },
  {
   "cell_type": "code",
   "execution_count": null,
   "id": "fab961b7",
   "metadata": {},
   "outputs": [],
   "source": [
    "# --- Neural Network ---\n",
    "nn = MLPClassifier(hidden_layer_sizes=(50,50), max_iter=500, random_state=42)\n",
    "nn.fit(X_train, y_train)\n",
    "y_pred_nn = nn.predict(X_test)"
   ]
  },
  {
   "cell_type": "code",
   "execution_count": null,
   "id": "f419bac7",
   "metadata": {},
   "outputs": [],
   "source": [
    "ConfusionMatrixDisplay(confusion_matrix(y_test, y_pred_nn)).plot()\n",
    "plt.title(\"Neural Network Confusion Matrix\")\n",
    "savefig(\"outputs/mp2_nn_confusion.png\")"
   ]
  },
  {
   "cell_type": "code",
   "execution_count": null,
   "id": "d5b26b34",
   "metadata": {},
   "outputs": [],
   "source": [
    "# --- Random Forest ---\n",
    "rf = RandomForestClassifier(random_state=42)\n",
    "rf.fit(X_train, y_train)\n",
    "y_pred_rf = rf.predict(X_test)"
   ]
  },
  {
   "cell_type": "code",
   "execution_count": null,
   "id": "8325711c",
   "metadata": {},
   "outputs": [],
   "source": [
    "ConfusionMatrixDisplay(confusion_matrix(y_test, y_pred_rf)).plot()\n",
    "plt.title(\"Random Forest Confusion Matrix\")\n",
    "savefig(\"outputs/mp2_rf_confusion.png\")"
   ]
  },
  {
   "cell_type": "code",
   "execution_count": null,
   "id": "8482f7f5",
   "metadata": {},
   "outputs": [],
   "source": [
    "# --- XGBoost (if available) ---\n",
    "if HAS_XGB:\n",
    "    xgb = XGBClassifier(eval_metric=\"logloss\", random_state=42)\n",
    "    xgb.fit(X_train, y_train)\n",
    "    y_pred_xgb = xgb.predict(X_test)\n",
    "\n",
    "    ConfusionMatrixDisplay(confusion_matrix(y_test, y_pred_xgb)).plot()\n",
    "    plt.title(\"XGBoost Confusion Matrix\")\n",
    "    savefig(\"outputs/mp2_xgb_confusion.png\")"
   ]
  },
  {
   "cell_type": "code",
   "execution_count": null,
   "id": "9a05302c",
   "metadata": {},
   "outputs": [],
   "source": [
    "print(\"Mini Project 2 complete. Outputs saved in /outputs/\")"
   ]
  }
 ],
 "metadata": {
  "jupytext": {
   "cell_metadata_filter": "-all",
   "main_language": "python",
   "notebook_metadata_filter": "-all"
  },
  "language_info": {
   "name": "python"
  }
 },
 "nbformat": 4,
 "nbformat_minor": 5
}
